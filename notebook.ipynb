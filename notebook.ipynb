{
 "cells": [
  {
   "cell_type": "code",
   "execution_count": 11,
   "metadata": {
    "vscode": {
     "languageId": "rust"
    }
   },
   "outputs": [
    {
     "name": "stdout",
     "output_type": "stream",
     "text": [
      "CI/CD Data Science with Rust\n"
     ]
    }
   ],
   "source": [
    "println!(\"CI/CD Data Science with Rust\");"
   ]
  },
  {
   "cell_type": "code",
   "execution_count": 7,
   "metadata": {
    "vscode": {
     "languageId": "rust"
    }
   },
   "outputs": [],
   "source": [
    "// WARNING: expect ~5 mins to download and compile\n",
    "// Import external dependencies\n",
    ":dep polars = {version=\"0.32.1\", features=[\"describe\", \"json\"]}\n",
    ":dep serde_json = \"1.0.105\"\n",
    "// Import local rusty-ds library\n",
    ":dep rusty-ds = {path = \".\"}"
   ]
  },
  {
   "cell_type": "code",
   "execution_count": 8,
   "metadata": {
    "vscode": {
     "languageId": "rust"
    }
   },
   "outputs": [],
   "source": [
    "// EDA Script\n",
    "use rusty_ds::{read_csv, read_json, df_summary};\n",
    "\n",
    "fn run(filepath: &str, format: &str) {\n",
    "    let df = match format {\n",
    "        \"csv_with_headers\" => {\n",
    "            println!(\"Loading CSV to dataframe...\");\n",
    "            read_csv(&filepath, true)\n",
    "        },\n",
    "        \"csv_no_headers\" => {\n",
    "            println!(\"Loading CSV to dataframe...\");\n",
    "            read_csv(&filepath, false)\n",
    "        },\n",
    "        \"json\" => {\n",
    "            println!(\"Loading JSON to dataframe...\");\n",
    "            read_json(&filepath)\n",
    "        }\n",
    "        _ => {\n",
    "            println!(\"No command specified\");\n",
    "            return;\n",
    "        }\n",
    "    };\n",
    "    match df {\n",
    "        Ok(df) => df_summary(df),\n",
    "        Err(e) => println!(\"Error: {:?}\", e)\n",
    "    }\n",
    "}"
   ]
  },
  {
   "cell_type": "code",
   "execution_count": 9,
   "metadata": {
    "vscode": {
     "languageId": "rust"
    }
   },
   "outputs": [
    {
     "name": "stdout",
     "output_type": "stream",
     "text": [
      "Loading CSV to dataframe...\n",
      "Dataframe Summary...\n",
      "shape: (5, 4)\n",
      "┌────────────┬──────────┬────────┬──────────┐\n",
      "│ category   ┆ calories ┆ fats_g ┆ sugars_g │\n",
      "│ ---        ┆ ---      ┆ ---    ┆ ---      │\n",
      "│ str        ┆ i64      ┆ f64    ┆ i64      │\n",
      "╞════════════╪══════════╪════════╪══════════╡\n",
      "│ vegetables ┆ 45       ┆ 0.5    ┆ 2        │\n",
      "│ seafood    ┆ 150      ┆ 5.0    ┆ 0        │\n",
      "│ meat       ┆ 100      ┆ 5.0    ┆ 0        │\n",
      "│ fruit      ┆ 60       ┆ 0.0    ┆ 11       │\n",
      "│ seafood    ┆ 140      ┆ 5.0    ┆ 1        │\n",
      "└────────────┴──────────┴────────┴──────────┘\n",
      "Schema:\n",
      "name: category, data type: Utf8\n",
      "name: calories, data type: Int64\n",
      "name: fats_g, data type: Float64\n",
      "name: sugars_g, data type: Int64\n",
      "\n",
      "Ok(shape: (9, 5)\n",
      "┌────────────┬────────────┬───────────┬──────────┬──────────┐\n",
      "│ describe   ┆ category   ┆ calories  ┆ fats_g   ┆ sugars_g │\n",
      "│ ---        ┆ ---        ┆ ---       ┆ ---      ┆ ---      │\n",
      "│ str        ┆ str        ┆ f64       ┆ f64      ┆ f64      │\n",
      "╞════════════╪════════════╪═══════════╪══════════╪══════════╡\n",
      "│ count      ┆ 27         ┆ 27.0      ┆ 27.0     ┆ 27.0     │\n",
      "│ null_count ┆ 0          ┆ 0.0       ┆ 0.0      ┆ 0.0      │\n",
      "│ mean       ┆ null       ┆ 88.592593 ┆ 3.203704 ┆ 3.444444 │\n",
      "│ std        ┆ null       ┆ 58.563088 ┆ 3.484193 ┆ 5.48658  │\n",
      "│ min        ┆ fruit      ┆ 20.0      ┆ 0.0      ┆ 0.0      │\n",
      "│ 25%        ┆ null       ┆ 30.0      ┆ 0.0      ┆ 0.0      │\n",
      "│ 50%        ┆ null       ┆ 100.0     ┆ 1.5      ┆ 2.0      │\n",
      "│ 75%        ┆ null       ┆ 130.0     ┆ 6.0      ┆ 3.5      │\n",
      "│ max        ┆ vegetables ┆ 200.0     ┆ 10.0     ┆ 25.0     │\n",
      "└────────────┴────────────┴───────────┴──────────┴──────────┘)\n"
     ]
    }
   ],
   "source": [
    "// CSV Test\n",
    "let CSV_PATH = \"data/sample.csv\";\n",
    "let CSV_FORMAT = \"csv_with_headers\";\n",
    "run(CSV_PATH, CSV_FORMAT);"
   ]
  },
  {
   "cell_type": "code",
   "execution_count": 10,
   "metadata": {
    "vscode": {
     "languageId": "rust"
    }
   },
   "outputs": [
    {
     "name": "stdout",
     "output_type": "stream",
     "text": [
      "Loading JSON to dataframe...\n",
      "Dataframe Summary...\n",
      "shape: (5, 4)\n",
      "┌────────────┬──────────┬────────┬──────────┐\n",
      "│ category   ┆ calories ┆ fats_g ┆ sugars_g │\n",
      "│ ---        ┆ ---      ┆ ---    ┆ ---      │\n",
      "│ str        ┆ i64      ┆ f64    ┆ i64      │\n",
      "╞════════════╪══════════╪════════╪══════════╡\n",
      "│ vegetables ┆ 45       ┆ 0.5    ┆ 2        │\n",
      "│ seafood    ┆ 150      ┆ 5.0    ┆ 0        │\n",
      "│ meat       ┆ 100      ┆ 5.0    ┆ 0        │\n",
      "│ fruit      ┆ 60       ┆ 0.0    ┆ 11       │\n",
      "│ seafood    ┆ 140      ┆ 5.0    ┆ 1        │\n",
      "└────────────┴──────────┴────────┴──────────┘\n",
      "Schema:\n",
      "name: category, data type: Utf8\n",
      "name: calories, data type: Int64\n",
      "name: fats_g, data type: Float64\n",
      "name: sugars_g, data type: Int64\n",
      "\n",
      "Ok(shape: (9, 5)\n",
      "┌────────────┬────────────┬───────────┬──────────┬──────────┐\n",
      "│ describe   ┆ category   ┆ calories  ┆ fats_g   ┆ sugars_g │\n",
      "│ ---        ┆ ---        ┆ ---       ┆ ---      ┆ ---      │\n",
      "│ str        ┆ str        ┆ f64       ┆ f64      ┆ f64      │\n",
      "╞════════════╪════════════╪═══════════╪══════════╪══════════╡\n",
      "│ count      ┆ 27         ┆ 27.0      ┆ 27.0     ┆ 27.0     │\n",
      "│ null_count ┆ 0          ┆ 0.0       ┆ 0.0      ┆ 0.0      │\n",
      "│ mean       ┆ null       ┆ 88.592593 ┆ 3.203704 ┆ 3.444444 │\n",
      "│ std        ┆ null       ┆ 58.563088 ┆ 3.484193 ┆ 5.48658  │\n",
      "│ min        ┆ fruit      ┆ 20.0      ┆ 0.0      ┆ 0.0      │\n",
      "│ 25%        ┆ null       ┆ 30.0      ┆ 0.0      ┆ 0.0      │\n",
      "│ 50%        ┆ null       ┆ 100.0     ┆ 1.5      ┆ 2.0      │\n",
      "│ 75%        ┆ null       ┆ 130.0     ┆ 6.0      ┆ 3.5      │\n",
      "│ max        ┆ vegetables ┆ 200.0     ┆ 10.0     ┆ 25.0     │\n",
      "└────────────┴────────────┴───────────┴──────────┴──────────┘)\n"
     ]
    }
   ],
   "source": [
    "// JSON Test\n",
    "let JSON_PATH = \"data/sample.json\";\n",
    "let JSON_FORMAT = \"json\";\n",
    "run(JSON_PATH, JSON_FORMAT);"
   ]
  }
 ],
 "metadata": {
  "kernelspec": {
   "display_name": "Rust",
   "language": "rust",
   "name": "rust"
  },
  "language_info": {
   "codemirror_mode": "rust",
   "file_extension": ".rs",
   "mimetype": "text/rust",
   "name": "Rust",
   "pygment_lexer": "rust",
   "version": ""
  },
  "orig_nbformat": 4
 },
 "nbformat": 4,
 "nbformat_minor": 2
}
